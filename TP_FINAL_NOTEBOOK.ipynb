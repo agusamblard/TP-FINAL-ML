{
 "cells": [
  {
   "cell_type": "code",
   "execution_count": null,
   "id": "ff1fc30b",
   "metadata": {},
   "outputs": [
    {
     "ename": "",
     "evalue": "",
     "output_type": "error",
     "traceback": [
      "\u001b[1;31mNo se pudo iniciar el kernel porque el entorno de Python \"Python 3.9.6\" ya no está disponible. Considere la posibilidad de seleccionar otro kernel o de actualizar la lista de entornos de Python."
     ]
    }
   ],
   "source": [
    "import pandas as pd\n",
    "import numpy as np\n",
    "\n",
    "dev = pd.read_csv('data/raw/pf_suvs_i302_1s2025.csv')\n",
    "#drop la primera columna (INDEX)\n",
    "dev = dev.drop(columns=['Unnamed: 0'])\n",
    "\n",
    "#guardar el DataFrame en un archivo CSV\n",
    "dev.to_csv('data/processed/pf_suvs_i302_1s2025_cleaned.csv', index=False)"
   ]
  },
  {
   "cell_type": "code",
   "execution_count": null,
   "id": "f840ee16",
   "metadata": {},
   "outputs": [],
   "source": [
    "#contar cantidad de valores diferentes por columna\n",
    "print(\"Cantidad de valores diferentes por columna:\")\n",
    "print(dev.nunique())"
   ]
  },
  {
   "cell_type": "code",
   "execution_count": null,
   "id": "bd968a8d",
   "metadata": {},
   "outputs": [],
   "source": [
    "#cantidad de valores nulos por columna\n",
    "print(\"\\nCantidad de valores nulos por columna:\")\n",
    "print(dev.isnull().sum())"
   ]
  },
  {
   "cell_type": "code",
   "execution_count": null,
   "id": "fc3a1e04",
   "metadata": {},
   "outputs": [],
   "source": [
    "#borrar columna 'Tipo de carrocería' (TODAS TIENEN EL MISMO VALOR)\n",
    "dev = dev.drop(columns=['Tipo de carrocería'])\n",
    "\n",
    "#guardar el DataFrame actualizado en un nuevo archivo CSV\n",
    "dev.to_csv('data/processed/pf_suvs_i302_1s2025_cleaned.csv', index=False)"
   ]
  },
  {
   "cell_type": "markdown",
   "id": "b5350b27",
   "metadata": {},
   "source": [
    "## Limpieza de Marcas\n"
   ]
  },
  {
   "cell_type": "code",
   "execution_count": null,
   "id": "64f6c7da",
   "metadata": {},
   "outputs": [],
   "source": [
    "#cantidad de vehiculos por marca\n",
    "cleaned = pd.read_csv('data/processed/pf_suvs_i302_1s2025_cleaned.csv')\n",
    "print(\"Cantidad de vehículos por marca:\")\n",
    "print(cleaned['Marca'].value_counts())\n"
   ]
  },
  {
   "cell_type": "code",
   "execution_count": null,
   "id": "ea955875",
   "metadata": {},
   "outputs": [],
   "source": [
    "cleaned = pd.read_csv('data/processed/pf_suvs_i302_1s2025_cleaned.csv')\n",
    "from preprocessing import corregir_marcas\n",
    "cleaned = corregir_marcas(cleaned)\n",
    "\n",
    "\n",
    "cleaned.to_csv('data/processed/pf_suvs_i302_1s2025_cleaned.csv', index=False)\n",
    "\n",
    "print(cleaned['Marca'].value_counts())\n"
   ]
  },
  {
   "cell_type": "markdown",
   "id": "2ebc592a",
   "metadata": {},
   "source": [
    "## Limpieza de modelo"
   ]
  },
  {
   "cell_type": "code",
   "execution_count": null,
   "id": "db746961",
   "metadata": {},
   "outputs": [],
   "source": [
    "cleaned = pd.read_csv('data/processed/pf_suvs_i302_1s2025_cleaned.csv')\n",
    "pd.set_option('display.max_rows', 140) \n",
    "#ordenados en orden alfabetico\n",
    "print(\"Cantidad de vehículos por marca ordenados alfabéticamente:\")\n",
    "print(cleaned['Modelo'].value_counts().sort_index())\n",
    "#cantidad de modelos diferentes\n",
    "print(\"Cantidad de modelos diferentes:\")\n",
    "print(cleaned['Modelo'].nunique())"
   ]
  },
  {
   "cell_type": "code",
   "execution_count": null,
   "id": "0170bf7e",
   "metadata": {},
   "outputs": [],
   "source": [
    "from preprocessing import corregir_modelo\n",
    "\n",
    "cleaned = pd.read_csv('data/processed/pf_suvs_i302_1s2025_cleaned.csv')\n",
    "\n",
    "cleaned = corregir_modelo(cleaned)\n",
    "\n",
    "print(cleaned['Modelo'].value_counts())\n",
    "\n",
    "#cantidad de modelos diferentes\n",
    "print(\"Cantidad de modelos diferentes después de la limpieza:\")\n",
    "print(cleaned['Modelo'].nunique())"
   ]
  },
  {
   "cell_type": "markdown",
   "id": "838e3521",
   "metadata": {},
   "source": [
    "## Limpieza de Versión y extracción de nuevas features"
   ]
  },
  {
   "cell_type": "code",
   "execution_count": null,
   "id": "18c93c0d",
   "metadata": {},
   "outputs": [],
   "source": [
    "from preprocessing import extraer_hp, extraer_transmision, extraer_traccion\n",
    "cleaned = pd.read_csv('data/processed/pf_suvs_i302_1s2025_cleaned.csv')\n",
    "cleaned = extraer_hp(cleaned)\n",
    "\n",
    "cleaned.to_csv('data/processed/pf_suvs_i302_1s2025_cleaned.csv', index=False)\n",
    "\n",
    "#cantidad de valores nulos en la columna 'HP'\n",
    "print(\"Cantidad de valores nulos en la columna 'HP':\")\n",
    "print(cleaned['HP'].isnull().sum())"
   ]
  },
  {
   "cell_type": "code",
   "execution_count": null,
   "id": "09f1e10c",
   "metadata": {},
   "outputs": [],
   "source": [
    "cleaned =  pd.read_csv('data/processed/pf_suvs_i302_1s2025_cleaned.csv')\n",
    "cleaned = extraer_transmision(cleaned)\n",
    "\n",
    "\n",
    "cleaned.to_csv('data/processed/pf_suvs_i302_1s2025_cleaned.csv', index=False)\n",
    "\n",
    "#cantidad de valores nulos en la columna 'Transmision'\n",
    "print(\"Cantidad de valores nulos en la columna 'Transmisión':\")\n",
    "print(cleaned['Transmisión'].isnull().sum())\n",
    "\n",
    "print(cleaned['Transmisión'].value_counts())\n",
    "\n"
   ]
  },
  {
   "cell_type": "code",
   "execution_count": null,
   "id": "2b3f13d4",
   "metadata": {},
   "outputs": [],
   "source": [
    "cleaned = pd.read_csv('data/processed/pf_suvs_i302_1s2025_cleaned.csv')\n",
    "\n",
    "cleaned = extraer_traccion(cleaned)\n",
    "\n",
    "cleaned.to_csv('data/processed/pf_suvs_i302_1s2025_cleaned.csv', index=False)\n",
    "#cantidad de valores nulos en la columna 'Traccion'\n",
    "cleaned = pd.read_csv('data/processed/pf_suvs_i302_1s2025_cleaned.csv')\n",
    "print(\"Cantidad de valores nulos en la columna 'Traccion':\")\n",
    "print(cleaned['Tracción'].isnull().sum())\n",
    "print(cleaned['Tracción'].value_counts())\n"
   ]
  },
  {
   "cell_type": "code",
   "execution_count": null,
   "id": "0db4b75c",
   "metadata": {},
   "outputs": [],
   "source": [
    "from preprocessing import limpiar_version\n",
    "\n",
    "#cantidad de versiones diferentes\n",
    "\n",
    "print(\"Cantidad de versiones diferentes antes de limpieza:\")\n",
    "print(cleaned['Versión'].nunique())\n",
    "\n",
    "cleaned = pd.read_csv('data/processed/pf_suvs_i302_1s2025_cleaned.csv')\n",
    "cleaned = limpiar_version(cleaned)\n",
    "\n",
    "cleaned.to_csv('data/processed/pf_suvs_i302_1s2025_cleaned.csv', index=False)\n",
    "\n",
    "print(\"Cantidad de versiones diferentes despues de limpieza:\")\n",
    "print(cleaned['Versión'].nunique())\n"
   ]
  },
  {
   "cell_type": "markdown",
   "id": "a71f145f",
   "metadata": {},
   "source": [
    "## Limpieza de Motor\n",
    "\n",
    "### Buscaría reemplazar esta columna por cilindrada del motor solamente. Hay muchas cosas como naftero, turbo, etc que no son tan relevntes como la cilindrada. Muchas cosas que tienen que ver con el tipo de combustible (que ya hay una columna para eso)\n",
    "\n",
    "\n"
   ]
  },
  {
   "cell_type": "code",
   "execution_count": null,
   "id": "2cb8f3cb",
   "metadata": {},
   "outputs": [],
   "source": [
    "from preprocessing import limpiar_motor\n",
    "cleaned = pd.read_csv('data/processed/pf_suvs_i302_1s2025_cleaned.csv')\n",
    "\n",
    "cleaned = limpiar_motor(cleaned)\n",
    "\n",
    "cleaned.to_csv('data/processed/pf_suvs_i302_1s2025_cleaned.csv', index=False)\n",
    "\n",
    "#cantidad de valores nulos en la columna 'Motor'\n",
    "print(\"Cantidad de valores nulos en la columna 'Motor':\")\n",
    "print(cleaned['Motor'].isnull().sum())\n"
   ]
  },
  {
   "cell_type": "markdown",
   "id": "bc0a3a63",
   "metadata": {},
   "source": [
    "### habria que ver si seguir refinando la funcion o si se reemplazan esos faltantes por una media o si se borran.\n"
   ]
  },
  {
   "cell_type": "markdown",
   "id": "aedcb429",
   "metadata": {},
   "source": [
    "## Limpieza de Tipo de combustible"
   ]
  },
  {
   "cell_type": "code",
   "execution_count": null,
   "id": "c3d04919",
   "metadata": {},
   "outputs": [],
   "source": [
    "from preprocessing import revisar_tipos_combustible\n",
    "cleaned = pd.read_csv('data/processed/pf_suvs_i302_1s2025_cleaned.csv')\n",
    "\n",
    "#valores diferentes en la columna 'Tipo de combustible'\n",
    "print(\"Valores diferentes en la columna 'Tipo de combustible':\")\n",
    "print(cleaned['Tipo de combustible'].value_counts())\n",
    "\n",
    "cleaned = revisar_tipos_combustible(cleaned)\n",
    "\n",
    "cleaned.to_csv('data/processed/pf_suvs_i302_1s2025_cleaned.csv', index=False)\n",
    "print(cleaned['Tipo de combustible'].value_counts())"
   ]
  },
  {
   "cell_type": "markdown",
   "id": "894a0363",
   "metadata": {},
   "source": [
    "## Limpieza de precio"
   ]
  },
  {
   "cell_type": "markdown",
   "id": "8f55b56e",
   "metadata": {},
   "source": [
    "### en la pagina de mercado libre figura que 15.000.000 pesos son 12.000 dolares, asi que usamos ese valor para la conversión.\n",
    "\n"
   ]
  },
  {
   "cell_type": "code",
   "execution_count": null,
   "id": "5e618449",
   "metadata": {},
   "outputs": [],
   "source": [
    "\n",
    "from preprocessing import convertir_pesos_a_dolares\n",
    "cleaned = pd.read_csv('data/processed/pf_suvs_i302_1s2025_cleaned.csv')\n",
    "\n",
    "#valores diferentes en la columna moneda\n",
    "print(\"Valores diferentes en la columna 'Moneda':\")\n",
    "print(cleaned['Moneda'].unique())\n",
    "\n",
    "cleaned = convertir_pesos_a_dolares(cleaned)\n",
    "\n",
    "\n",
    "#elimino la columna 'Moneda' ya que no es necesaria\n",
    "cleaned = cleaned.drop(columns=['Moneda'])\n",
    "\n",
    "\n",
    "cleaned.to_csv('data/processed/pf_suvs_i302_1s2025_cleaned.csv', index=False)\n",
    "\n"
   ]
  },
  {
   "cell_type": "code",
   "execution_count": null,
   "id": "c88f73b1",
   "metadata": {},
   "outputs": [],
   "source": [
    "#valores diferentes en cada columna\n",
    "print(\"Valores diferentes en cada columna:\")\n",
    "print(cleaned.nunique())\n",
    "\n",
    "\n",
    "#cantidad de valores nulos en cada columna\n",
    "print(\"\\nCantidad de valores nulos en cada columna:\")\n",
    "print(cleaned.isnull().sum())"
   ]
  },
  {
   "cell_type": "markdown",
   "id": "61d0883e",
   "metadata": {},
   "source": [
    "## Limpieza de Puertas\n"
   ]
  },
  {
   "cell_type": "code",
   "execution_count": null,
   "id": "1a0229c1",
   "metadata": {},
   "outputs": [],
   "source": [
    "\n",
    "#cantidad de vehiculos con cada cantidad de puertas\n",
    "print(\"Cantidad de vehículos con cada cantidad de puertas:\")\n",
    "print(dev['Puertas'].value_counts())"
   ]
  },
  {
   "cell_type": "code",
   "execution_count": null,
   "id": "b5f44661",
   "metadata": {},
   "outputs": [],
   "source": [
    "cleaned = pd.read_csv('data/processed/pf_suvs_i302_1s2025_cleaned.csv')\n",
    "#reemplzar los valores 60252 en puertas por 5\n",
    "cleaned['Puertas'] = cleaned['Puertas'].replace(60252, 5)\n",
    "\n",
    "cleaned.to_csv('data/processed/pf_suvs_i302_1s2025_cleaned.csv', index=False)"
   ]
  },
  {
   "cell_type": "code",
   "execution_count": null,
   "id": "08311b82",
   "metadata": {},
   "outputs": [],
   "source": [
    "cleaned = pd.read_csv('data/processed/pf_suvs_i302_1s2025_cleaned.csv')\n",
    "dev[dev['Puertas'] == 7]\n",
    "\n",
    "cleaned['Puertas'] = cleaned['Puertas'].replace(7, 5)\n",
    "cleaned.to_csv('data/processed/pf_suvs_i302_1s2025_cleaned.csv', index=False)\n",
    "\n"
   ]
  },
  {
   "cell_type": "code",
   "execution_count": null,
   "id": "d3ba213a",
   "metadata": {},
   "outputs": [],
   "source": [
    "\n",
    "dev[dev['Puertas'] == 6]\n",
    "\n",
    "\n"
   ]
  },
  {
   "cell_type": "code",
   "execution_count": null,
   "id": "cb3c2c12",
   "metadata": {},
   "outputs": [],
   "source": [
    "cleaned = pd.read_csv('data/processed/pf_suvs_i302_1s2025_cleaned.csv')\n",
    "cleaned['Puertas'] = cleaned['Puertas'].replace(6, 5)\n",
    "cleaned.to_csv('data/processed/pf_suvs_i302_1s2025_cleaned.csv', index=False)"
   ]
  },
  {
   "cell_type": "code",
   "execution_count": null,
   "id": "e801766f",
   "metadata": {},
   "outputs": [],
   "source": [
    "cleaned = pd.read_csv('data/processed/pf_suvs_i302_1s2025_cleaned.csv')\n",
    "\n",
    "cleaned[cleaned['Puertas'] == 2]"
   ]
  },
  {
   "cell_type": "code",
   "execution_count": null,
   "id": "1f53d23f",
   "metadata": {},
   "outputs": [],
   "source": [
    "# en la fila 7240, 8093 y 11246, reemplazamos el 2 en Puertas por 5 (FIGURAN COMO COUPE PERO LA IMAGEN MARCA QUE SON DE 5 PUERTAS)\n",
    "#mostrar las filas 7240, 8093 y 11246\n",
    "\n",
    "print(\"Filas 7240, 8093 y 11246:\")\n",
    "print(cleaned.iloc[[7240, 8093, 11246]])\n",
    "\n",
    "#en estas filas reemplazamos el 2 por 5\n",
    "cleaned.loc[[7240, 8093, 11246], 'Puertas'] = 5\n",
    "#guardar el DataFrame actualizado en un nuevo archivo CSV\n",
    "cleaned.to_csv('data/processed/pf_suvs_i302_1s2025_cleaned.csv', index=False)"
   ]
  },
  {
   "cell_type": "code",
   "execution_count": null,
   "id": "ce7a2e85",
   "metadata": {},
   "outputs": [],
   "source": [
    "cleaned = pd.read_csv('data/processed/pf_suvs_i302_1s2025_cleaned.csv')\n",
    "\n",
    "cleaned[cleaned['Puertas'] == 2]"
   ]
  },
  {
   "cell_type": "code",
   "execution_count": null,
   "id": "77f079e0",
   "metadata": {},
   "outputs": [],
   "source": [
    "#reemplazar los valores 2 en puertas por 3\n",
    "cleaned['Puertas'] = cleaned['Puertas'].replace(2, 3)\n",
    "#guardar el DataFrame actualizado en un nuevo archivo CSV\n",
    "cleaned.to_csv('data/processed/pf_suvs_i302_1s2025_cleaned.csv', index=False)\n"
   ]
  },
  {
   "cell_type": "code",
   "execution_count": null,
   "id": "879c2a2d",
   "metadata": {},
   "outputs": [],
   "source": [
    "cleaned = pd.read_csv('data/processed/pf_suvs_i302_1s2025_cleaned.csv')\n",
    "\n",
    "#mostrar cantidad de elementos por cada valor de la columna 'Puertas'\n",
    "print(\"Cantidad de vehículos con cada cantidad de puertas:\")\n",
    "print(cleaned['Puertas'].value_counts())"
   ]
  },
  {
   "cell_type": "code",
   "execution_count": null,
   "id": "01c8bd32",
   "metadata": {},
   "outputs": [],
   "source": [
    "# busco valores de 4 puertas\n",
    "print(\"Cantidad de vehículos con 4 puertas:\")\n",
    "print(cleaned[cleaned['Puertas'] == 4].shape[0])\n",
    "\n",
    "#imprimo random 5 vehiculos con 4 puertas\n",
    "print(\"5 vehículos con 4 puertas:\")\n",
    "print(cleaned[cleaned['Puertas'] == 4].sample(3))\n",
    "\n",
    "# No existen vehículos con 4 puertas, por lo que hay un error en los datos. Pareciera que los vehículos con 4 puertas son en realidad vehículos con 5 puertas pero no podemos estar seguros.\n",
    "# Primero voy a buscar si existe otra publicacion de la misma marca y modelo con con 5 puertas\n",
    "#voy por cada vehiculo con 4 puertas y busco si existe otro igual con 5 puertas si existe cambio el valor de 4 por 5, hay algunos casos que no consideran la caja como puerta. nosotros si lo hacemos\n",
    "# CASOS RAROS: PORSCHE PANAMERA, JEEP WRANGLER (si dice UNLIMITED tiene 5 puertas si no dice 3 puertas), TODAS LAS OROCH tienen 5 puertas\n",
    "i = 0\n",
    "i2 = 0\n",
    "for index, row in cleaned[cleaned['Puertas'] == 4].iterrows():\n",
    "    marca = row['Marca']\n",
    "    modelo = row['Modelo']\n",
    "    version = row['Versión']\n",
    "    \n",
    "    if marca == 'Porsche' and modelo =='Panamera':\n",
    "        i+= 1\n",
    "        cleaned.at[index, 'Puertas'] = 5\n",
    "        continue\n",
    "    if marca == 'Jeep' and modelo == 'Wrangler':\n",
    "        if 'Unlimited' in version:\n",
    "            i += 1\n",
    "            cleaned.at[index, 'Puertas'] = 5\n",
    "            continue\n",
    "        else:\n",
    "            i2 += 1\n",
    "            cleaned.at[index, 'Puertas'] = 3\n",
    "            continue\n",
    "    if marca == 'Renault' and modelo == 'Duster Oroch':\n",
    "        i += 1\n",
    "        cleaned.at[index, 'Puertas'] = 5\n",
    "        continue\n",
    "    #busco si existe otro vehiculo con la misma marca, modelo y version pero con 5 puertas\n",
    "    if cleaned[(cleaned['Marca'] == marca) & (cleaned['Modelo'] == modelo) & (cleaned['Versión'] == version) & (cleaned['Puertas'] == 5)].shape[0] > 0:\n",
    "        i += 1\n",
    "        # print(f\"Vehículo con 4 puertas encontrado: {marca} {modelo} {version} en el índice {index}. Cambiando a 5 puertas.\")\n",
    "        cleaned.at[index, 'Puertas'] = 5\n",
    "\n",
    "    #hago lo mismo pero con 3 puertas\n",
    "    elif cleaned[(cleaned['Marca'] == marca) & (cleaned['Modelo'] == modelo) & (cleaned['Versión'] == version) & (cleaned['Puertas'] == 3)].shape[0] > 0:\n",
    "        i2 += 1\n",
    "        # print(f\"Vehículo con 4 puertas encontrado: {marca} {modelo} {version} en el índice {index}. Cambiando a 5 puertas.\")\n",
    "        print(f\"Vehículo con 4 puertas encontrado: {marca} {modelo} {version} en el índice {index}. Cambiando a 3 puertas.\")\n",
    "        cleaned.at[index, 'Puertas'] = 3\n",
    "\n",
    "\n",
    "print(\"Cantidad de vehículos con 4 puertas:\")\n",
    "print(cleaned[cleaned['Puertas'] == 4].shape[0])\n",
    "print(f\"Total de vehículos con 4 puertas cambiados a 5: {i}\")\n",
    "print(f\"Total de vehículos con 4 puertas cambiados a 3: {i2}\")\n",
    "\n",
    "\n",
    "\n"
   ]
  },
  {
   "cell_type": "code",
   "execution_count": null,
   "id": "47f3dc26",
   "metadata": {},
   "outputs": [],
   "source": [
    "### sigo analizando casos raros de 4 puertas\n",
    "# marcas restantes con 4 puertas\n",
    "print(\"Marcas restantes con 4 puertas: con sus respectivos modelos\")\n",
    "\n",
    "\n",
    "# de los restantes, Los Volkswagen tienen 5 puertas, duster 5, jeep 5, ford 5, mercedes 5, honda 5, hiunday 5, hyunday 5, chevrolet 5, fiat 5, peugeot 5, bmw 5, citroen 5, kia 5, \n",
    "marcas_5p = ['Volkswagen', 'Jeep', 'Ford', 'Mercedes-Benz', 'Honda', 'Hiunday','Hyundai', 'Chevrolet', 'Fiat', 'Peugeot', 'BMW', 'Citroën', 'Kia', 'Renault', 'Toyota', 'Jetur', 'Alfa Romeo', 'Nissan', 'Audi', 'D.S.', 'Porsche', 'BAIC', \"Chery\"]\n",
    "for index, row in cleaned[cleaned['Puertas'] == 4].iterrows():\n",
    "    marca = row['Marca']\n",
    "    modelo = row['Modelo']\n",
    "    version = row['Versión']\n",
    "    \n",
    "    if marca in marcas_5p: \n",
    "        cleaned.at[index, 'Puertas'] = 5\n",
    "\n",
    "        \n",
    "print(cleaned[cleaned['Puertas'] == 4][['Marca', 'Modelo']].drop_duplicates())\n",
    "print(\"Total de casos por analizar:\", cleaned[cleaned['Puertas'] == 4][['Marca', 'Modelo']].drop_duplicates().shape[0])\n",
    "\n",
    "# guardo el DataFrame actualizado en un nuevo archivo CSV\n",
    "cleaned.to_csv('data/processed/pf_suvs_i302_1s2025_cleaned.csv', index=False)\n",
    "\n",
    "print(\"Cantidad de vehiculos por puertas:\")\n",
    "print(cleaned['Puertas'].value_counts())\n"
   ]
  },
  {
   "cell_type": "markdown",
   "id": "b5a26998",
   "metadata": {},
   "source": [
    "## despues hay que seguir viendo tema autos de 4 puertas lo hago despues"
   ]
  },
  {
   "cell_type": "code",
   "execution_count": null,
   "id": "7ed59fa7",
   "metadata": {},
   "outputs": [],
   "source": [
    "cleaned = pd.read_csv('data/processed/pf_suvs_i302_1s2025_cleaned.csv')\n",
    "print(\"Cantidad de valores diferentes por columna:\")\n",
    "print(cleaned.nunique())\n"
   ]
  },
  {
   "cell_type": "code",
   "execution_count": null,
   "id": "37c2e468",
   "metadata": {},
   "outputs": [],
   "source": [
    "cleaned['Año'].value_counts()"
   ]
  },
  {
   "cell_type": "code",
   "execution_count": null,
   "id": "6071632c",
   "metadata": {},
   "outputs": [],
   "source": [
    "#reemplazar 436694.0 por 2017\n",
    "cleaned['Año'] = cleaned['Año'].replace(436694.0, 2017)\n",
    "cleaned.to_csv('data/processed/pf_suvs_i302_1s2025_cleaned.csv', index=False)\n"
   ]
  },
  {
   "cell_type": "code",
   "execution_count": null,
   "id": "d48a4cc3",
   "metadata": {},
   "outputs": [],
   "source": [
    "cleaned = pd.read_csv('data/processed/pf_suvs_i302_1s2025_cleaned.csv')\n",
    "\n",
    "pd.set_option('display.max_rows', 70) \n",
    "print(cleaned['Color'].value_counts())\n",
    "\n",
    "print(\"Cantidad de colores diferentes:\")\n",
    "print(cleaned['Color'].nunique())\n"
   ]
  },
  {
   "cell_type": "code",
   "execution_count": null,
   "id": "4f2626d7",
   "metadata": {},
   "outputs": [],
   "source": [
    "#reemplazar GRAY, GRIS TITANE, GRIS LAQUE, GRIS PLATINO, GRIS SILVERSTONE, GRIS INDY, GRIS ESTRELLA, GRIS PLATA, GRIS SELENIUM,Gris oscuro por Gris\n",
    "cleaned['Color'] = cleaned['Color'].replace(['GRAY','GRIS ARTENSE', 'GRIS TITANE','GRIS LAQUE', 'GRIS PLATINO', 'GRIS SILVERSTONE', \n",
    "                                              'GRIS INDY', 'GRANITE CRYSTAL BC', 'GRIS ESTRELLA', 'GRIS PLATA', 'GRIS SELENIUM', 'Gris oscuro'], 'Gris')\n",
    "\n",
    "\n",
    "#reemplazar blue, steel_blue, Azul claro, Celeste por Azul\n",
    "cleaned['Color'] = cleaned['Color'].replace(['blue', 'steel_blue', 'Azul claro', 'Celeste'], 'Azul')\n",
    "\n",
    "#reemplazar, BLACK MEET KETTLE, NOIR PERLA NERA, NEGRA, CARBON BLACK, Negra, por Negro\n",
    "cleaned['Color'] = cleaned['Color'].replace(['BLACK MEET KETTLE', 'NOIR PERLA NERA', 'NEGRA', 'CARBON BLACK', 'Negra'], 'Negro')\n",
    "\n",
    "#reemplazar Blanco Glaciar, BLANCO BANCHISA BICOLOR NEGRO, BLANCO BANQUISE, BLANCO GLACIAR, SUMMIT WHITE, blanca, BLANCO NACRE TRICAPA, BLANCA, Blanca, por Blanco\n",
    "cleaned['Color'] = cleaned['Color']. replace(['Blanco Glaciar', 'BLANCO BANCHISA BICOLOR NEGRO', 'BLANCO BANQUISE', 'BLANCO GLACIAR', 'SUMMIT WHITE','blanca', 'BLANCO NACRE TRICAPA',\n",
    "                                                'BLANCA', 'Blanca'], 'Blanco' )\n",
    "\n",
    "cleaned.to_csv('data/processed/pf_suvs_i302_1s2025_cleaned.csv', index=False)"
   ]
  },
  {
   "cell_type": "code",
   "execution_count": null,
   "id": "60d0040d",
   "metadata": {},
   "outputs": [],
   "source": [
    "cleaned = pd.read_csv('data/processed/pf_suvs_i302_1s2025_cleaned.csv')\n",
    "pd.set_option('display.max_rows', 70) \n",
    "print(cleaned['Color'].value_counts())\n",
    "\n",
    "#cantidad de colores\n",
    "print(\"Cantidad de colores diferentes:\")\n",
    "print(cleaned['Color'].nunique())"
   ]
  },
  {
   "cell_type": "markdown",
   "id": "ceb13266",
   "metadata": {},
   "source": [
    "## hay que seguir con esta parte de color. Quizas hacer clustering?\n"
   ]
  },
  {
   "cell_type": "code",
   "execution_count": null,
   "id": "e5f8d7bc",
   "metadata": {},
   "outputs": [],
   "source": [
    "precio_dolar_ml = round(10000000/8300, 2)   \n",
    "print(precio_dolar_ml)"
   ]
  },
  {
   "cell_type": "code",
   "execution_count": null,
   "id": "304fb82a",
   "metadata": {},
   "outputs": [],
   "source": [
    "#unifico precios\n",
    "\n",
    "cleaned = pd.read_csv('data/processed/pf_suvs_i302_1s2025_cleaned.csv')\n",
    "mask_pesos = cleaned['Moneda'] == '$'\n",
    "cleaned.loc[mask_pesos, 'Precio'] = round(\n",
    "    cleaned.loc[mask_pesos, 'Precio'] / precio_dolar_ml\n",
    ")\n",
    "\n",
    "#drop columna de Moneda\n",
    "\n",
    "cleaned = cleaned.drop(columns=['Moneda'])\n",
    "\n",
    "cleaned.to_csv('data/processed/pf_suvs_i302_1s2025_cleaned.csv', index=False)\n",
    "\n",
    "\n"
   ]
  },
  {
   "cell_type": "code",
   "execution_count": null,
   "id": "3f44a660",
   "metadata": {},
   "outputs": [],
   "source": [
    "cleaned = pd.read_csv(\"pf_suvs_i302_1s2025_cleaned.csv\")\n",
    "\n",
    "#mostrar todos los tipos de combustible y cantidades\n",
    "print(\"Tipos de combustible y cantidades:\")\n",
    "print(cleaned['Tipo de combustible'].value_counts())"
   ]
  },
  {
   "cell_type": "code",
   "execution_count": null,
   "id": "8f9cf8c3",
   "metadata": {},
   "outputs": [],
   "source": [
    "# 1. Asegurarse que todo es string\n",
    "cleaned['Kilómetros'] = cleaned['Kilómetros'].astype(str)\n",
    "\n",
    "# 2. Eliminar 'km', espacios y puntos (como separador de miles)\n",
    "cleaned['Kilómetros'] = cleaned['Kilómetros'].str.replace('km', '', regex=False)\n",
    "cleaned['Kilómetros'] = cleaned['Kilómetros'].str.replace('.', '', regex=False)\n",
    "cleaned['Kilómetros'] = cleaned['Kilómetros'].str.strip()\n",
    "\n",
    "# 3. Convertir a numérico (float o int)\n",
    "cleaned['Kilómetros'] = pd.to_numeric(cleaned['Kilómetros'], errors='coerce')\n",
    "\n",
    "cleaned.to_csv('data/processed/pf_suvs_i302_1s2025_cleaned.csv', index=False)"
   ]
  },
  {
   "cell_type": "code",
   "execution_count": null,
   "id": "a9ea10d5",
   "metadata": {},
   "outputs": [],
   "source": [
    "cleaned = pd.read_csv('data/processed/pf_suvs_i302_1s2025_cleaned.csv')\n",
    "cajas = cleaned['Transmisión'].value_counts()\n",
    "print(\"Tipos de caja y cantidades:\")\n",
    "print(cajas)"
   ]
  }
 ],
 "metadata": {
  "kernelspec": {
   "display_name": ".venv",
   "language": "python",
   "name": "python3"
  },
  "language_info": {
   "codemirror_mode": {
    "name": "ipython",
    "version": 3
   },
   "file_extension": ".py",
   "mimetype": "text/x-python",
   "name": "python",
   "nbconvert_exporter": "python",
   "pygments_lexer": "ipython3",
   "version": "3.9.6"
  }
 },
 "nbformat": 4,
 "nbformat_minor": 5
}
