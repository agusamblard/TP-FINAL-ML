{
 "cells": [
  {
   "cell_type": "code",
   "execution_count": 1,
   "id": "ff1fc30b",
   "metadata": {},
   "outputs": [],
   "source": [
    "import pandas as pd\n",
    "import numpy as np\n",
    "\n",
    "dev = pd.read_csv('data/raw/pf_suvs_i302_1s2025.csv')\n",
    "#drop la primera columna (INDEX)\n",
    "dev = dev.drop(columns=['Unnamed: 0'])\n",
    "\n",
    "#guardar el DataFrame en un archivo CSV\n",
    "dev.to_csv('data/processed/pf_suvs_i302_1s2025_cleaned.csv', index=False)"
   ]
  },
  {
   "cell_type": "code",
   "execution_count": 2,
   "id": "f840ee16",
   "metadata": {},
   "outputs": [
    {
     "name": "stdout",
     "output_type": "stream",
     "text": [
      "Cantidad de valores diferentes por columna:\n",
      "Marca                         47\n",
      "Modelo                       137\n",
      "Año                           40\n",
      "Versión                     2072\n",
      "Color                         70\n",
      "Tipo de combustible            8\n",
      "Puertas                        7\n",
      "Transmisión                    4\n",
      "Motor                        271\n",
      "Tipo de carrocería             1\n",
      "Con cámara de retroceso        2\n",
      "Kilómetros                  2175\n",
      "Título                      2220\n",
      "Precio                      2914\n",
      "Moneda                         2\n",
      "Descripción                12142\n",
      "Tipo de vendedor               3\n",
      "dtype: int64\n"
     ]
    }
   ],
   "source": [
    "#contar cantidad de valores diferentes por columna\n",
    "print(\"Cantidad de valores diferentes por columna:\")\n",
    "print(dev.nunique())"
   ]
  },
  {
   "cell_type": "code",
   "execution_count": 3,
   "id": "bd968a8d",
   "metadata": {},
   "outputs": [
    {
     "name": "stdout",
     "output_type": "stream",
     "text": [
      "\n",
      "Cantidad de valores nulos por columna:\n",
      "Marca                          0\n",
      "Modelo                         0\n",
      "Año                            0\n",
      "Versión                        0\n",
      "Color                        389\n",
      "Tipo de combustible            0\n",
      "Puertas                        0\n",
      "Transmisión                   15\n",
      "Motor                         38\n",
      "Tipo de carrocería             0\n",
      "Con cámara de retroceso    13563\n",
      "Kilómetros                     0\n",
      "Título                         0\n",
      "Precio                         0\n",
      "Moneda                         0\n",
      "Descripción                    0\n",
      "Tipo de vendedor               0\n",
      "dtype: int64\n"
     ]
    }
   ],
   "source": [
    "#cantidad de valores nulos por columna\n",
    "print(\"\\nCantidad de valores nulos por columna:\")\n",
    "print(dev.isnull().sum())"
   ]
  },
  {
   "cell_type": "code",
   "execution_count": 4,
   "id": "fc3a1e04",
   "metadata": {},
   "outputs": [],
   "source": [
    "#borrar columna 'Tipo de carrocería' (TODAS TIENEN EL MISMO VALOR)\n",
    "dev = dev.drop(columns=['Tipo de carrocería'])\n",
    "\n",
    "#guardar el DataFrame actualizado en un nuevo archivo CSV\n",
    "dev.to_csv('data/processed/pf_suvs_i302_1s2025_cleaned.csv', index=False)"
   ]
  },
  {
   "cell_type": "markdown",
   "id": "b5350b27",
   "metadata": {},
   "source": [
    "## Limpieza de Marcas\n"
   ]
  },
  {
   "cell_type": "code",
   "execution_count": 5,
   "id": "64f6c7da",
   "metadata": {},
   "outputs": [
    {
     "name": "stdout",
     "output_type": "stream",
     "text": [
      "Cantidad de vehículos por marca:\n",
      "Marca\n",
      "Ford              2161\n",
      "Jeep              2050\n",
      "Volkswagen        2037\n",
      "Chevrolet         1750\n",
      "Renault           1491\n",
      "Toyota            1260\n",
      "Peugeot           1250\n",
      "Nissan            1059\n",
      "Citroën            721\n",
      "BMW                672\n",
      "Honda              597\n",
      "Hyundai            568\n",
      "Audi               529\n",
      "Fiat               366\n",
      "Chery              344\n",
      "Kia                290\n",
      "Mercedes-Benz      282\n",
      "Dodge              185\n",
      "BAIC               165\n",
      "Suzuki              76\n",
      "Porsche             67\n",
      "Land Rover          64\n",
      "Mitsubishi          47\n",
      "Volvo               38\n",
      "SsangYong           30\n",
      "D.S.                27\n",
      "Alfa Romeo          25\n",
      "JAC                 19\n",
      "Jetour              14\n",
      "Haval                9\n",
      "GWM                  9\n",
      "Isuzu                8\n",
      "Lifan                7\n",
      "Lexus                7\n",
      "Subaru               5\n",
      "D·S                  4\n",
      "Daihatsu             4\n",
      "Mini                 3\n",
      "Hiunday              2\n",
      "KAIYI                2\n",
      "Range Rover          2\n",
      "DS AUTOMOBILES       2\n",
      "Jaguar               2\n",
      "Rrenault             1\n",
      "Jetur                1\n",
      "hiunday              1\n",
      "Vol                  1\n",
      "Name: count, dtype: int64\n"
     ]
    }
   ],
   "source": [
    "#cantidad de vehiculos por marca\n",
    "cleaned = pd.read_csv('data/processed/pf_suvs_i302_1s2025_cleaned.csv')\n",
    "print(\"Cantidad de vehículos por marca:\")\n",
    "print(cleaned['Marca'].value_counts())\n"
   ]
  },
  {
   "cell_type": "code",
   "execution_count": 6,
   "id": "ea955875",
   "metadata": {},
   "outputs": [
    {
     "name": "stdout",
     "output_type": "stream",
     "text": [
      "Marca\n",
      "Ford             2161\n",
      "Jeep             2050\n",
      "Volkswagen       2038\n",
      "Chevrolet        1750\n",
      "Renault          1492\n",
      "Toyota           1260\n",
      "Peugeot          1250\n",
      "Nissan           1059\n",
      "Citroën           721\n",
      "BMW               672\n",
      "Honda             597\n",
      "Hyundai           571\n",
      "Audi              529\n",
      "Fiat              366\n",
      "Chery             344\n",
      "Kia               290\n",
      "Mercedes-Benz     282\n",
      "Dodge             185\n",
      "BAIC              165\n",
      "Suzuki             76\n",
      "Porsche            67\n",
      "Land Rover         66\n",
      "Mitsubishi         47\n",
      "Volvo              38\n",
      "D.S.               33\n",
      "SsangYong          30\n",
      "Alfa Romeo         25\n",
      "JAC                19\n",
      "Jetour             15\n",
      "Haval               9\n",
      "GWM                 9\n",
      "Isuzu               8\n",
      "Lifan               7\n",
      "Lexus               7\n",
      "Subaru              5\n",
      "Daihatsu            4\n",
      "Mini                3\n",
      "KAIYI               2\n",
      "Jaguar              2\n",
      "Name: count, dtype: int64\n"
     ]
    }
   ],
   "source": [
    "cleaned = pd.read_csv('data/processed/pf_suvs_i302_1s2025_cleaned.csv')\n",
    "from preprocessing import corregir_marcas\n",
    "cleaned = corregir_marcas(cleaned)\n",
    "\n",
    "\n",
    "cleaned.to_csv('data/processed/pf_suvs_i302_1s2025_cleaned.csv', index=False)\n",
    "\n",
    "print(cleaned['Marca'].value_counts())\n"
   ]
  },
  {
   "cell_type": "markdown",
   "id": "2ebc592a",
   "metadata": {},
   "source": [
    "## Limpieza de modelo"
   ]
  },
  {
   "cell_type": "code",
   "execution_count": 7,
   "id": "db746961",
   "metadata": {},
   "outputs": [
    {
     "name": "stdout",
     "output_type": "stream",
     "text": [
      "Cantidad de vehículos por marca ordenados alfabéticamente:\n",
      "Modelo\n",
      "2008                 1144\n",
      "208                     2\n",
      "3008                  100\n",
      "4008                    4\n",
      "4Runner                 6\n",
      "500X                   25\n",
      "Actyon                  7\n",
      "Blazer                 21\n",
      "Bronco                  4\n",
      "Bronco Sport          117\n",
      "C3                      5\n",
      "C3 Aircross           228\n",
      "C4 Aircross             2\n",
      "C4 Cactus             453\n",
      "C5 Aircross            33\n",
      "CR-V                  246\n",
      "Captur                229\n",
      "Cayenne                43\n",
      "Cherokee               42\n",
      "Clase GL                2\n",
      "Clase GLA              84\n",
      "Clase GLC             104\n",
      "Clase GLE              39\n",
      "Clase GLK              29\n",
      "Clase ML               18\n",
      "Commander             117\n",
      "Compass               916\n",
      "Cooper Countryman       3\n",
      "Corolla Cross         482\n",
      "Creta                  69\n",
      "DS3                     2\n",
      "DS7                    10\n",
      "DS7 Crossback          21\n",
      "Defender                2\n",
      "Discovery               9\n",
      "Duster               1048\n",
      "Duster Oroch          109\n",
      "Ecosport             1569\n",
      "Equinox                36\n",
      "Evoque                 28\n",
      "Explorer               14\n",
      "F-PACE                  2\n",
      "Freelander              3\n",
      "Galloper                7\n",
      "Grand Blazer            2\n",
      "Grand Cherokee        193\n",
      "Grand Santa Fé          3\n",
      "Grand Vitara           47\n",
      "H6                     11\n",
      "HR-V                  339\n",
      "Hilux SW4             322\n",
      "Jimny                  13\n",
      "Jolion                  7\n",
      "Journey               185\n",
      "Kicks                 913\n",
      "Koleos                100\n",
      "Kona                    4\n",
      "Kuga                  177\n",
      "Land Cruiser           53\n",
      "ML                      6\n",
      "Macan                  22\n",
      "Mohave                  2\n",
      "Montero                20\n",
      "Murano                 20\n",
      "Musso                  23\n",
      "Myway                   4\n",
      "NX                      3\n",
      "Nativa                  2\n",
      "Nivus                 436\n",
      "Outback                 5\n",
      "Outlander              25\n",
      "Panamera                2\n",
      "Pathfinder             13\n",
      "Patriot                30\n",
      "Pilot                  12\n",
      "Pulse                 341\n",
      "Q2                     65\n",
      "Q3                    114\n",
      "Q3 Sportback           41\n",
      "Q5                    196\n",
      "Q7                     56\n",
      "Q8                     25\n",
      "RAV4                  173\n",
      "Range Rover             6\n",
      "Range Rover Sport      18\n",
      "Renegade              643\n",
      "S2                     19\n",
      "SQ5                     8\n",
      "SW4                   224\n",
      "Samurai                 2\n",
      "Sandero                 2\n",
      "Sandero Stepway         4\n",
      "Santa Fe               71\n",
      "Seltos                 19\n",
      "Serie 4                 5\n",
      "Sorento                77\n",
      "Soul                   82\n",
      "Spin                   33\n",
      "Sportage              110\n",
      "Stelvio                25\n",
      "T-Cross               540\n",
      "Taos                  687\n",
      "Terios                  4\n",
      "Terrano II              2\n",
      "Territory             280\n",
      "Tiggo                 145\n",
      "Tiggo 2                30\n",
      "Tiggo 3               104\n",
      "Tiggo 4                 2\n",
      "Tiggo 4 Pro            31\n",
      "Tiggo 5                30\n",
      "Tiggo 8 Pro             2\n",
      "Tiguan                211\n",
      "Tiguan Allspace       147\n",
      "Touareg                17\n",
      "Tracker              1511\n",
      "Trailblazer           139\n",
      "Trooper                 8\n",
      "Tucson                417\n",
      "UX                      4\n",
      "Vitara                 22\n",
      "Wrangler              109\n",
      "X-Terra                36\n",
      "X-Trail                75\n",
      "X1                    264\n",
      "X2                     40\n",
      "X25                     2\n",
      "X3                     94\n",
      "X35                    57\n",
      "X4                     46\n",
      "X5                     75\n",
      "X55                   106\n",
      "X6                    150\n",
      "X70                    18\n",
      "XC40                    5\n",
      "XC60                   33\n",
      "q5 sportback           24\n",
      "Name: count, dtype: int64\n",
      "Cantidad de modelos diferentes:\n",
      "137\n"
     ]
    }
   ],
   "source": [
    "cleaned = pd.read_csv('data/processed/pf_suvs_i302_1s2025_cleaned.csv')\n",
    "pd.set_option('display.max_rows', 140) \n",
    "#ordenados en orden alfabetico\n",
    "print(\"Cantidad de vehículos por marca ordenados alfabéticamente:\")\n",
    "print(cleaned['Modelo'].value_counts().sort_index())\n",
    "#cantidad de modelos diferentes\n",
    "print(\"Cantidad de modelos diferentes:\")\n",
    "print(cleaned['Modelo'].nunique())"
   ]
  },
  {
   "cell_type": "code",
   "execution_count": 8,
   "id": "0170bf7e",
   "metadata": {},
   "outputs": [
    {
     "name": "stdout",
     "output_type": "stream",
     "text": [
      "Modelo\n",
      "Ecosport             1569\n",
      "Tracker              1511\n",
      "2008                 1146\n",
      "Duster               1048\n",
      "Compass               916\n",
      "Kicks                 913\n",
      "Taos                  687\n",
      "Renegade              643\n",
      "Otros                 541\n",
      "T-Cross               540\n",
      "Corolla Cross         482\n",
      "C4 Cactus             453\n",
      "Tucson                417\n",
      "Pulse                 341\n",
      "Hr-V                  339\n",
      "Hilux Sw4             322\n",
      "Territory             280\n",
      "X1                    264\n",
      "Cr-V                  246\n",
      "Captur                229\n",
      "C3 Aircross           228\n",
      "Sw4                   224\n",
      "Tiguan                211\n",
      "Q5                    196\n",
      "Grand Cherokee        193\n",
      "Journey               185\n",
      "Kuga                  177\n",
      "Rav4                  173\n",
      "X6                    150\n",
      "Tiguan Allspace       147\n",
      "Tiggo                 145\n",
      "Trailblazer           139\n",
      "Commander             117\n",
      "Bronco Sport          117\n",
      "Q3                    114\n",
      "Sportage              110\n",
      "Wrangler              109\n",
      "Duster Oroch          109\n",
      "X55                   106\n",
      "Tiggo 3               104\n",
      "Clase Glc             104\n",
      "3008                  100\n",
      "Koleos                100\n",
      "X3                     92\n",
      "Clase Gla              84\n",
      "Soul                   82\n",
      "Sorento                77\n",
      "X-Trail                75\n",
      "X5                     75\n",
      "Santa Fe               71\n",
      "Creta                  69\n",
      "Q2                     65\n",
      "Q7                     56\n",
      "Land Cruiser           53\n",
      "X4                     46\n",
      "Cayenne                43\n",
      "Cherokee               42\n",
      "Q3 Sportback           41\n",
      "X2                     40\n",
      "Grand Vitara           39\n",
      "Clase Gle              39\n",
      "Equinox                36\n",
      "X-Terra                36\n",
      "Xc60                   33\n",
      "Spin                   33\n",
      "C5 Aircross            33\n",
      "Tiggo 4 Pro            31\n",
      "Tiggo 2                30\n",
      "Patriot                30\n",
      "Tiggo 5                30\n",
      "Clase Glk              29\n",
      "Evoque                 28\n",
      "Q8                     25\n",
      "Stelvio                25\n",
      "500X                   25\n",
      "Outlander              25\n",
      "Q5 Sportback           24\n",
      "Musso                  23\n",
      "Vitara                 22\n",
      "Macan                  22\n",
      "Ds7 Crossback          21\n",
      "Blazer                 21\n",
      "Montero                20\n",
      "Murano                 20\n",
      "Seltos                 19\n",
      "Clase Ml               18\n",
      "Range Rover Sport      18\n",
      "Touareg                17\n",
      "X70                    15\n",
      "Explorer               14\n",
      "Pathfinder             13\n",
      "Jimny                  13\n",
      "Pilot                  12\n",
      "Ds7                    10\n",
      "Discovery               9\n",
      "Sq5                     8\n",
      "Trooper                 8\n",
      "Actyon                  7\n",
      "Galloper                7\n",
      "4Runner                 6\n",
      "Ml                      6\n",
      "Range Rover             6\n",
      "Serie 4                 5\n",
      "C3                      5\n",
      "Xc40                    5\n",
      "Outback                 5\n",
      "Kona                    4\n",
      "4008                    4\n",
      "Ux                      4\n",
      "Myway                   4\n",
      "Bronco                  4\n",
      "Jolion                  4\n",
      "Terios                  4\n",
      "Sandero Stepway         4\n",
      "Freelander              3\n",
      "Nx                      3\n",
      "Grand Santa Fé          3\n",
      "Cooper Countryman       3\n",
      "Tiggo 8 Pro             2\n",
      "Mohave                  2\n",
      "Ds3                     2\n",
      "Clase Gl                2\n",
      "Panamera                2\n",
      "Defender                2\n",
      "X25                     2\n",
      "Grand Blazer            2\n",
      "Tiggo 4                 2\n",
      "Nativa                  2\n",
      "Samurai                 2\n",
      "C4 Aircross             2\n",
      "Terrano Ii              2\n",
      "F-Pace                  2\n",
      "Name: count, dtype: int64\n",
      "Cantidad de modelos diferentes después de la limpieza:\n",
      "132\n"
     ]
    }
   ],
   "source": [
    "from preprocessing import corregir_modelo\n",
    "\n",
    "cleaned = pd.read_csv('data/processed/pf_suvs_i302_1s2025_cleaned.csv')\n",
    "\n",
    "cleaned = corregir_modelo(cleaned)\n",
    "\n",
    "print(cleaned['Modelo'].value_counts())\n",
    "\n",
    "#cantidad de modelos diferentes\n",
    "print(\"Cantidad de modelos diferentes después de la limpieza:\")\n",
    "print(cleaned['Modelo'].nunique())"
   ]
  },
  {
   "cell_type": "markdown",
   "id": "838e3521",
   "metadata": {},
   "source": [
    "## Limpieza de Versión y extracción de nuevas features"
   ]
  },
  {
   "cell_type": "code",
   "execution_count": 9,
   "id": "18c93c0d",
   "metadata": {},
   "outputs": [
    {
     "name": "stdout",
     "output_type": "stream",
     "text": [
      "Cantidad de valores nulos en la columna 'HP':\n",
      "12960\n"
     ]
    }
   ],
   "source": [
    "from preprocessing import extraer_hp, extraer_transmision, extraer_traccion\n",
    "cleaned = pd.read_csv('data/processed/pf_suvs_i302_1s2025_cleaned.csv')\n",
    "cleaned = extraer_hp(cleaned)\n",
    "\n",
    "cleaned.to_csv('data/processed/pf_suvs_i302_1s2025_cleaned.csv', index=False)\n",
    "\n",
    "#cantidad de valores nulos en la columna 'HP'\n",
    "print(\"Cantidad de valores nulos en la columna 'HP':\")\n",
    "print(cleaned['HP'].isnull().sum())"
   ]
  },
  {
   "cell_type": "code",
   "execution_count": 10,
   "id": "09f1e10c",
   "metadata": {},
   "outputs": [
    {
     "name": "stdout",
     "output_type": "stream",
     "text": [
      "Cantidad de valores nulos en la columna 'Transmisión':\n",
      "9\n",
      "Transmisión\n",
      "AUTOMÁTICA    12407\n",
      "MANUAL         5802\n",
      "CLASH            36\n",
      "Name: count, dtype: int64\n"
     ]
    }
   ],
   "source": [
    "cleaned =  pd.read_csv('data/processed/pf_suvs_i302_1s2025_cleaned.csv')\n",
    "cleaned = extraer_transmision(cleaned)\n",
    "\n",
    "\n",
    "cleaned.to_csv('data/processed/pf_suvs_i302_1s2025_cleaned.csv', index=False)\n",
    "\n",
    "#cantidad de valores nulos en la columna 'Transmision'\n",
    "print(\"Cantidad de valores nulos en la columna 'Transmisión':\")\n",
    "print(cleaned['Transmisión'].isnull().sum())\n",
    "\n",
    "print(cleaned['Transmisión'].value_counts())\n",
    "\n"
   ]
  },
  {
   "cell_type": "code",
   "execution_count": 11,
   "id": "2b3f13d4",
   "metadata": {},
   "outputs": [
    {
     "name": "stdout",
     "output_type": "stream",
     "text": [
      "Cantidad de valores nulos en la columna 'Traccion':\n",
      "11247\n",
      "Tracción\n",
      "4x2    3885\n",
      "4x4    3122\n",
      "Name: count, dtype: int64\n"
     ]
    }
   ],
   "source": [
    "cleaned = pd.read_csv('data/processed/pf_suvs_i302_1s2025_cleaned.csv')\n",
    "\n",
    "cleaned = extraer_traccion(cleaned)\n",
    "\n",
    "cleaned.to_csv('data/processed/pf_suvs_i302_1s2025_cleaned.csv', index=False)\n",
    "#cantidad de valores nulos en la columna 'Traccion'\n",
    "cleaned = pd.read_csv('data/processed/pf_suvs_i302_1s2025_cleaned.csv')\n",
    "print(\"Cantidad de valores nulos en la columna 'Traccion':\")\n",
    "print(cleaned['Tracción'].isnull().sum())\n",
    "print(cleaned['Tracción'].value_counts())\n"
   ]
  },
  {
   "cell_type": "code",
   "execution_count": 12,
   "id": "0db4b75c",
   "metadata": {},
   "outputs": [
    {
     "name": "stdout",
     "output_type": "stream",
     "text": [
      "Cantidad de versiones diferentes antes de limpieza:\n",
      "2072\n",
      "Cantidad de versiones diferentes despues de limpieza:\n",
      "1197\n"
     ]
    }
   ],
   "source": [
    "from preprocessing import limpiar_version\n",
    "\n",
    "#cantidad de versiones diferentes\n",
    "\n",
    "print(\"Cantidad de versiones diferentes antes de limpieza:\")\n",
    "print(cleaned['Versión'].nunique())\n",
    "\n",
    "cleaned = pd.read_csv('data/processed/pf_suvs_i302_1s2025_cleaned.csv')\n",
    "cleaned = limpiar_version(cleaned)\n",
    "\n",
    "cleaned.to_csv('data/processed/pf_suvs_i302_1s2025_cleaned.csv', index=False)\n",
    "\n",
    "print(\"Cantidad de versiones diferentes despues de limpieza:\")\n",
    "print(cleaned['Versión'].nunique())\n"
   ]
  },
  {
   "cell_type": "markdown",
   "id": "a71f145f",
   "metadata": {},
   "source": [
    "## Limpieza de Motor\n",
    "\n",
    "### Buscaría reemplazar esta columna por cilindrada del motor solamente. Hay muchas cosas como naftero, turbo, etc que no son tan relevntes como la cilindrada. Muchas cosas que tienen que ver con el tipo de combustible (que ya hay una columna para eso)\n",
    "\n",
    "\n"
   ]
  },
  {
   "cell_type": "code",
   "execution_count": 13,
   "id": "2cb8f3cb",
   "metadata": {},
   "outputs": [
    {
     "name": "stdout",
     "output_type": "stream",
     "text": [
      "Cantidad de valores nulos en la columna 'Motor':\n",
      "82\n"
     ]
    }
   ],
   "source": [
    "from preprocessing import limpiar_motor\n",
    "cleaned = pd.read_csv('data/processed/pf_suvs_i302_1s2025_cleaned.csv')\n",
    "\n",
    "cleaned = limpiar_motor(cleaned)\n",
    "\n",
    "cleaned.to_csv('data/processed/pf_suvs_i302_1s2025_cleaned.csv', index=False)\n",
    "\n",
    "#cantidad de valores nulos en la columna 'Motor'\n",
    "print(\"Cantidad de valores nulos en la columna 'Motor':\")\n",
    "print(cleaned['Motor'].isnull().sum())\n"
   ]
  },
  {
   "cell_type": "markdown",
   "id": "bc0a3a63",
   "metadata": {},
   "source": [
    "### habria que ver si seguir refinando la funcion o si se reemplazan esos faltantes por una media o si se borran.\n"
   ]
  },
  {
   "cell_type": "markdown",
   "id": "aedcb429",
   "metadata": {},
   "source": [
    "## Limpieza de Tipo de combustible"
   ]
  },
  {
   "cell_type": "code",
   "execution_count": 14,
   "id": "c3d04919",
   "metadata": {},
   "outputs": [
    {
     "name": "stdout",
     "output_type": "stream",
     "text": [
      "Valores diferentes en la columna 'Tipo de combustible':\n",
      "Tipo de combustible\n",
      "Nafta            16067\n",
      "Diésel            1328\n",
      "Nafta/GNC          451\n",
      "Híbrido/Nafta      269\n",
      "Híbrido            105\n",
      "GNC                 12\n",
      "Eléctrico           12\n",
      "Mild Hybrid         10\n",
      "Name: count, dtype: int64\n",
      "Tipo de combustible\n",
      "Nafta        16681\n",
      "Diésel        1185\n",
      "Híbrido        316\n",
      "Nafta/GNC       65\n",
      "Eléctrico        7\n",
      "Name: count, dtype: int64\n"
     ]
    }
   ],
   "source": [
    "from preprocessing import revisar_tipos_combustible\n",
    "cleaned = pd.read_csv('data/processed/pf_suvs_i302_1s2025_cleaned.csv')\n",
    "\n",
    "#valores diferentes en la columna 'Tipo de combustible'\n",
    "print(\"Valores diferentes en la columna 'Tipo de combustible':\")\n",
    "print(cleaned['Tipo de combustible'].value_counts())\n",
    "\n",
    "cleaned = revisar_tipos_combustible(cleaned)\n",
    "\n",
    "cleaned.to_csv('data/processed/pf_suvs_i302_1s2025_cleaned.csv', index=False)\n",
    "print(cleaned['Tipo de combustible'].value_counts())"
   ]
  },
  {
   "cell_type": "markdown",
   "id": "894a0363",
   "metadata": {},
   "source": [
    "## Limpieza de precio"
   ]
  },
  {
   "cell_type": "markdown",
   "id": "8f55b56e",
   "metadata": {},
   "source": [
    "### en la pagina de mercado libre figura que 15.000.000 pesos son 12.000 dolares, asi que usamos ese valor para la conversión.\n",
    "\n"
   ]
  },
  {
   "cell_type": "code",
   "execution_count": 15,
   "id": "5e618449",
   "metadata": {},
   "outputs": [
    {
     "name": "stdout",
     "output_type": "stream",
     "text": [
      "Valores diferentes en la columna 'Moneda':\n",
      "['$' 'US$']\n"
     ]
    }
   ],
   "source": [
    "\n",
    "from preprocessing import convertir_pesos_a_dolares\n",
    "cleaned = pd.read_csv('data/processed/pf_suvs_i302_1s2025_cleaned.csv')\n",
    "\n",
    "#valores diferentes en la columna moneda\n",
    "print(\"Valores diferentes en la columna 'Moneda':\")\n",
    "print(cleaned['Moneda'].unique())\n",
    "\n",
    "cleaned = convertir_pesos_a_dolares(cleaned)\n",
    "\n",
    "\n",
    "#elimino la columna 'Moneda' ya que no es necesaria\n",
    "cleaned = cleaned.drop(columns=['Moneda'])\n",
    "\n",
    "\n",
    "cleaned.to_csv('data/processed/pf_suvs_i302_1s2025_cleaned.csv', index=False)\n",
    "\n"
   ]
  },
  {
   "cell_type": "code",
   "execution_count": 16,
   "id": "c88f73b1",
   "metadata": {},
   "outputs": [
    {
     "name": "stdout",
     "output_type": "stream",
     "text": [
      "Valores diferentes en cada columna:\n",
      "Marca                         39\n",
      "Modelo                       137\n",
      "Año                           40\n",
      "Versión                     1196\n",
      "Color                         70\n",
      "Tipo de combustible            5\n",
      "Puertas                        7\n",
      "Transmisión                    3\n",
      "Motor                         41\n",
      "Con cámara de retroceso        2\n",
      "Kilómetros                  2175\n",
      "Título                      2220\n",
      "Precio                      2430\n",
      "Descripción                12142\n",
      "Tipo de vendedor               3\n",
      "HP                           102\n",
      "Tracción                       2\n",
      "Versión_prev                2072\n",
      "Tipo original                  5\n",
      "dtype: int64\n",
      "\n",
      "Cantidad de valores nulos en cada columna:\n",
      "Marca                          0\n",
      "Modelo                         0\n",
      "Año                            0\n",
      "Versión                      271\n",
      "Color                        389\n",
      "Tipo de combustible            0\n",
      "Puertas                        0\n",
      "Transmisión                    9\n",
      "Motor                         82\n",
      "Con cámara de retroceso    13563\n",
      "Kilómetros                     0\n",
      "Título                         0\n",
      "Precio                         0\n",
      "Descripción                    0\n",
      "Tipo de vendedor               0\n",
      "HP                         12960\n",
      "Tracción                   11247\n",
      "Versión_prev                   0\n",
      "Tipo original                  0\n",
      "dtype: int64\n"
     ]
    }
   ],
   "source": [
    "#valores diferentes en cada columna\n",
    "print(\"Valores diferentes en cada columna:\")\n",
    "print(cleaned.nunique())\n",
    "\n",
    "\n",
    "#cantidad de valores nulos en cada columna\n",
    "print(\"\\nCantidad de valores nulos en cada columna:\")\n",
    "print(cleaned.isnull().sum())"
   ]
  },
  {
   "cell_type": "markdown",
   "id": "61d0883e",
   "metadata": {},
   "source": [
    "## Limpieza de Puertas\n"
   ]
  },
  {
   "cell_type": "code",
   "execution_count": null,
   "id": "1a0229c1",
   "metadata": {},
   "outputs": [],
   "source": [
    "\n",
    "#cantidad de vehiculos con cada cantidad de puertas\n",
    "print(\"Cantidad de vehículos con cada cantidad de puertas:\")\n",
    "print(dev['Puertas'].value_counts())"
   ]
  },
  {
   "cell_type": "code",
   "execution_count": null,
   "id": "b5f44661",
   "metadata": {},
   "outputs": [],
   "source": [
    "cleaned = pd.read_csv('data/processed/pf_suvs_i302_1s2025_cleaned.csv')\n",
    "#reemplzar los valores 60252 en puertas por 5\n",
    "cleaned['Puertas'] = cleaned['Puertas'].replace(60252, 5)\n",
    "\n",
    "cleaned.to_csv('data/processed/pf_suvs_i302_1s2025_cleaned.csv', index=False)"
   ]
  },
  {
   "cell_type": "code",
   "execution_count": null,
   "id": "08311b82",
   "metadata": {},
   "outputs": [],
   "source": [
    "cleaned = pd.read_csv('data/processed/pf_suvs_i302_1s2025_cleaned.csv')\n",
    "dev[dev['Puertas'] == 7]\n",
    "\n",
    "cleaned['Puertas'] = cleaned['Puertas'].replace(7, 5)\n",
    "cleaned.to_csv('data/processed/pf_suvs_i302_1s2025_cleaned.csv', index=False)\n",
    "\n"
   ]
  },
  {
   "cell_type": "code",
   "execution_count": null,
   "id": "d3ba213a",
   "metadata": {},
   "outputs": [],
   "source": [
    "\n",
    "dev[dev['Puertas'] == 6]\n",
    "\n",
    "\n"
   ]
  },
  {
   "cell_type": "code",
   "execution_count": null,
   "id": "cb3c2c12",
   "metadata": {},
   "outputs": [],
   "source": [
    "cleaned = pd.read_csv('data/processed/pf_suvs_i302_1s2025_cleaned.csv')\n",
    "cleaned['Puertas'] = cleaned['Puertas'].replace(6, 5)\n",
    "cleaned.to_csv('data/processed/pf_suvs_i302_1s2025_cleaned.csv', index=False)"
   ]
  },
  {
   "cell_type": "code",
   "execution_count": null,
   "id": "e801766f",
   "metadata": {},
   "outputs": [],
   "source": [
    "cleaned = pd.read_csv('data/processed/pf_suvs_i302_1s2025_cleaned.csv')\n",
    "\n",
    "cleaned[cleaned['Puertas'] == 2]"
   ]
  },
  {
   "cell_type": "code",
   "execution_count": null,
   "id": "1f53d23f",
   "metadata": {},
   "outputs": [],
   "source": [
    "# en la fila 7240, 8093 y 11246, reemplazamos el 2 en Puertas por 5 (FIGURAN COMO COUPE PERO LA IMAGEN MARCA QUE SON DE 5 PUERTAS)\n",
    "#mostrar las filas 7240, 8093 y 11246\n",
    "\n",
    "print(\"Filas 7240, 8093 y 11246:\")\n",
    "print(cleaned.iloc[[7240, 8093, 11246]])\n",
    "\n",
    "#en estas filas reemplazamos el 2 por 5\n",
    "cleaned.loc[[7240, 8093, 11246], 'Puertas'] = 5\n",
    "#guardar el DataFrame actualizado en un nuevo archivo CSV\n",
    "cleaned.to_csv('data/processed/pf_suvs_i302_1s2025_cleaned.csv', index=False)"
   ]
  },
  {
   "cell_type": "code",
   "execution_count": null,
   "id": "ce7a2e85",
   "metadata": {},
   "outputs": [],
   "source": [
    "cleaned = pd.read_csv('data/processed/pf_suvs_i302_1s2025_cleaned.csv')\n",
    "\n",
    "cleaned[cleaned['Puertas'] == 2]"
   ]
  },
  {
   "cell_type": "code",
   "execution_count": null,
   "id": "77f079e0",
   "metadata": {},
   "outputs": [],
   "source": [
    "#reemplazar los valores 2 en puertas por 3\n",
    "cleaned['Puertas'] = cleaned['Puertas'].replace(2, 3)\n",
    "#guardar el DataFrame actualizado en un nuevo archivo CSV\n",
    "cleaned.to_csv('data/processed/pf_suvs_i302_1s2025_cleaned.csv', index=False)\n"
   ]
  },
  {
   "cell_type": "code",
   "execution_count": null,
   "id": "879c2a2d",
   "metadata": {},
   "outputs": [],
   "source": [
    "cleaned = pd.read_csv('data/processed/pf_suvs_i302_1s2025_cleaned.csv')\n",
    "\n",
    "#mostrar cantidad de elementos por cada valor de la columna 'Puertas'\n",
    "print(\"Cantidad de vehículos con cada cantidad de puertas:\")\n",
    "print(cleaned['Puertas'].value_counts())"
   ]
  },
  {
   "cell_type": "code",
   "execution_count": null,
   "id": "01c8bd32",
   "metadata": {},
   "outputs": [],
   "source": [
    "# busco valores de 4 puertas\n",
    "print(\"Cantidad de vehículos con 4 puertas:\")\n",
    "print(cleaned[cleaned['Puertas'] == 4].shape[0])\n",
    "\n",
    "#imprimo random 5 vehiculos con 4 puertas\n",
    "print(\"5 vehículos con 4 puertas:\")\n",
    "print(cleaned[cleaned['Puertas'] == 4].sample(3))\n",
    "\n",
    "# No existen vehículos con 4 puertas, por lo que hay un error en los datos. Pareciera que los vehículos con 4 puertas son en realidad vehículos con 5 puertas pero no podemos estar seguros.\n",
    "# Primero voy a buscar si existe otra publicacion de la misma marca y modelo con con 5 puertas\n",
    "#voy por cada vehiculo con 4 puertas y busco si existe otro igual con 5 puertas si existe cambio el valor de 4 por 5, hay algunos casos que no consideran la caja como puerta. nosotros si lo hacemos\n",
    "# CASOS RAROS: PORSCHE PANAMERA, JEEP WRANGLER (si dice UNLIMITED tiene 5 puertas si no dice 3 puertas), TODAS LAS OROCH tienen 5 puertas\n",
    "i = 0\n",
    "i2 = 0\n",
    "for index, row in cleaned[cleaned['Puertas'] == 4].iterrows():\n",
    "    marca = row['Marca']\n",
    "    modelo = row['Modelo']\n",
    "    version = row['Versión']\n",
    "    \n",
    "    if marca == 'Porsche' and modelo =='Panamera':\n",
    "        i+= 1\n",
    "        cleaned.at[index, 'Puertas'] = 5\n",
    "        continue\n",
    "    if marca == 'Jeep' and modelo == 'Wrangler':\n",
    "        if 'Unlimited' in version:\n",
    "            i += 1\n",
    "            cleaned.at[index, 'Puertas'] = 5\n",
    "            continue\n",
    "        else:\n",
    "            i2 += 1\n",
    "            cleaned.at[index, 'Puertas'] = 3\n",
    "            continue\n",
    "    if marca == 'Renault' and modelo == 'Duster Oroch':\n",
    "        i += 1\n",
    "        cleaned.at[index, 'Puertas'] = 5\n",
    "        continue\n",
    "    #busco si existe otro vehiculo con la misma marca, modelo y version pero con 5 puertas\n",
    "    if cleaned[(cleaned['Marca'] == marca) & (cleaned['Modelo'] == modelo) & (cleaned['Versión'] == version) & (cleaned['Puertas'] == 5)].shape[0] > 0:\n",
    "        i += 1\n",
    "        # print(f\"Vehículo con 4 puertas encontrado: {marca} {modelo} {version} en el índice {index}. Cambiando a 5 puertas.\")\n",
    "        cleaned.at[index, 'Puertas'] = 5\n",
    "\n",
    "    #hago lo mismo pero con 3 puertas\n",
    "    elif cleaned[(cleaned['Marca'] == marca) & (cleaned['Modelo'] == modelo) & (cleaned['Versión'] == version) & (cleaned['Puertas'] == 3)].shape[0] > 0:\n",
    "        i2 += 1\n",
    "        # print(f\"Vehículo con 4 puertas encontrado: {marca} {modelo} {version} en el índice {index}. Cambiando a 5 puertas.\")\n",
    "        print(f\"Vehículo con 4 puertas encontrado: {marca} {modelo} {version} en el índice {index}. Cambiando a 3 puertas.\")\n",
    "        cleaned.at[index, 'Puertas'] = 3\n",
    "\n",
    "\n",
    "print(\"Cantidad de vehículos con 4 puertas:\")\n",
    "print(cleaned[cleaned['Puertas'] == 4].shape[0])\n",
    "print(f\"Total de vehículos con 4 puertas cambiados a 5: {i}\")\n",
    "print(f\"Total de vehículos con 4 puertas cambiados a 3: {i2}\")\n",
    "\n",
    "\n",
    "\n"
   ]
  },
  {
   "cell_type": "code",
   "execution_count": null,
   "id": "47f3dc26",
   "metadata": {},
   "outputs": [],
   "source": [
    "### sigo analizando casos raros de 4 puertas\n",
    "# marcas restantes con 4 puertas\n",
    "print(\"Marcas restantes con 4 puertas: con sus respectivos modelos\")\n",
    "\n",
    "\n",
    "# de los restantes, Los Volkswagen tienen 5 puertas, duster 5, jeep 5, ford 5, mercedes 5, honda 5, hiunday 5, hyunday 5, chevrolet 5, fiat 5, peugeot 5, bmw 5, citroen 5, kia 5, \n",
    "marcas_5p = ['Volkswagen', 'Jeep', 'Ford', 'Mercedes-Benz', 'Honda', 'Hiunday','Hyundai', 'Chevrolet', 'Fiat', 'Peugeot', 'BMW', 'Citroën', 'Kia', 'Renault', 'Toyota', 'Jetur', 'Alfa Romeo', 'Nissan', 'Audi', 'D.S.', 'Porsche', 'BAIC', \"Chery\"]\n",
    "for index, row in cleaned[cleaned['Puertas'] == 4].iterrows():\n",
    "    marca = row['Marca']\n",
    "    modelo = row['Modelo']\n",
    "    version = row['Versión']\n",
    "    \n",
    "    if marca in marcas_5p: \n",
    "        cleaned.at[index, 'Puertas'] = 5\n",
    "\n",
    "        \n",
    "print(cleaned[cleaned['Puertas'] == 4][['Marca', 'Modelo']].drop_duplicates())\n",
    "print(\"Total de casos por analizar:\", cleaned[cleaned['Puertas'] == 4][['Marca', 'Modelo']].drop_duplicates().shape[0])\n",
    "\n",
    "# guardo el DataFrame actualizado en un nuevo archivo CSV\n",
    "cleaned.to_csv('data/processed/pf_suvs_i302_1s2025_cleaned.csv', index=False)\n",
    "\n",
    "print(\"Cantidad de vehiculos por puertas:\")\n",
    "print(cleaned['Puertas'].value_counts())\n"
   ]
  },
  {
   "cell_type": "markdown",
   "id": "b5a26998",
   "metadata": {},
   "source": [
    "## despues hay que seguir viendo tema autos de 4 puertas lo hago despues"
   ]
  },
  {
   "cell_type": "code",
   "execution_count": null,
   "id": "7ed59fa7",
   "metadata": {},
   "outputs": [],
   "source": [
    "cleaned = pd.read_csv('data/processed/pf_suvs_i302_1s2025_cleaned.csv')\n",
    "print(\"Cantidad de valores diferentes por columna:\")\n",
    "print(cleaned.nunique())\n"
   ]
  },
  {
   "cell_type": "code",
   "execution_count": null,
   "id": "37c2e468",
   "metadata": {},
   "outputs": [],
   "source": [
    "cleaned['Año'].value_counts()"
   ]
  },
  {
   "cell_type": "code",
   "execution_count": null,
   "id": "6071632c",
   "metadata": {},
   "outputs": [],
   "source": [
    "#reemplazar 436694.0 por 2017\n",
    "cleaned['Año'] = cleaned['Año'].replace(436694.0, 2017)\n",
    "cleaned.to_csv('data/processed/pf_suvs_i302_1s2025_cleaned.csv', index=False)\n"
   ]
  },
  {
   "cell_type": "code",
   "execution_count": null,
   "id": "d48a4cc3",
   "metadata": {},
   "outputs": [],
   "source": [
    "cleaned = pd.read_csv('data/processed/pf_suvs_i302_1s2025_cleaned.csv')\n",
    "\n",
    "pd.set_option('display.max_rows', 70) \n",
    "print(cleaned['Color'].value_counts())\n",
    "\n",
    "print(\"Cantidad de colores diferentes:\")\n",
    "print(cleaned['Color'].nunique())\n"
   ]
  },
  {
   "cell_type": "code",
   "execution_count": null,
   "id": "4f2626d7",
   "metadata": {},
   "outputs": [],
   "source": [
    "#reemplazar GRAY, GRIS TITANE, GRIS LAQUE, GRIS PLATINO, GRIS SILVERSTONE, GRIS INDY, GRIS ESTRELLA, GRIS PLATA, GRIS SELENIUM,Gris oscuro por Gris\n",
    "cleaned['Color'] = cleaned['Color'].replace(['GRAY','GRIS ARTENSE', 'GRIS TITANE','GRIS LAQUE', 'GRIS PLATINO', 'GRIS SILVERSTONE', \n",
    "                                              'GRIS INDY', 'GRANITE CRYSTAL BC', 'GRIS ESTRELLA', 'GRIS PLATA', 'GRIS SELENIUM', 'Gris oscuro'], 'Gris')\n",
    "\n",
    "\n",
    "#reemplazar blue, steel_blue, Azul claro, Celeste por Azul\n",
    "cleaned['Color'] = cleaned['Color'].replace(['blue', 'steel_blue', 'Azul claro', 'Celeste'], 'Azul')\n",
    "\n",
    "#reemplazar, BLACK MEET KETTLE, NOIR PERLA NERA, NEGRA, CARBON BLACK, Negra, por Negro\n",
    "cleaned['Color'] = cleaned['Color'].replace(['BLACK MEET KETTLE', 'NOIR PERLA NERA', 'NEGRA', 'CARBON BLACK', 'Negra'], 'Negro')\n",
    "\n",
    "#reemplazar Blanco Glaciar, BLANCO BANCHISA BICOLOR NEGRO, BLANCO BANQUISE, BLANCO GLACIAR, SUMMIT WHITE, blanca, BLANCO NACRE TRICAPA, BLANCA, Blanca, por Blanco\n",
    "cleaned['Color'] = cleaned['Color']. replace(['Blanco Glaciar', 'BLANCO BANCHISA BICOLOR NEGRO', 'BLANCO BANQUISE', 'BLANCO GLACIAR', 'SUMMIT WHITE','blanca', 'BLANCO NACRE TRICAPA',\n",
    "                                                'BLANCA', 'Blanca'], 'Blanco' )\n",
    "\n",
    "cleaned.to_csv('data/processed/pf_suvs_i302_1s2025_cleaned.csv', index=False)"
   ]
  },
  {
   "cell_type": "code",
   "execution_count": null,
   "id": "60d0040d",
   "metadata": {},
   "outputs": [],
   "source": [
    "cleaned = pd.read_csv('data/processed/pf_suvs_i302_1s2025_cleaned.csv')\n",
    "pd.set_option('display.max_rows', 70) \n",
    "print(cleaned['Color'].value_counts())\n",
    "\n",
    "#cantidad de colores\n",
    "print(\"Cantidad de colores diferentes:\")\n",
    "print(cleaned['Color'].nunique())"
   ]
  },
  {
   "cell_type": "markdown",
   "id": "ceb13266",
   "metadata": {},
   "source": [
    "## hay que seguir con esta parte de color. Quizas hacer clustering?\n"
   ]
  },
  {
   "cell_type": "code",
   "execution_count": null,
   "id": "e5f8d7bc",
   "metadata": {},
   "outputs": [],
   "source": [
    "precio_dolar_ml = round(10000000/8300, 2)   \n",
    "print(precio_dolar_ml)"
   ]
  },
  {
   "cell_type": "code",
   "execution_count": null,
   "id": "304fb82a",
   "metadata": {},
   "outputs": [],
   "source": [
    "#unifico precios\n",
    "\n",
    "cleaned = pd.read_csv('data/processed/pf_suvs_i302_1s2025_cleaned.csv')\n",
    "mask_pesos = cleaned['Moneda'] == '$'\n",
    "cleaned.loc[mask_pesos, 'Precio'] = round(\n",
    "    cleaned.loc[mask_pesos, 'Precio'] / precio_dolar_ml\n",
    ")\n",
    "\n",
    "#drop columna de Moneda\n",
    "\n",
    "cleaned = cleaned.drop(columns=['Moneda'])\n",
    "\n",
    "cleaned.to_csv('data/processed/pf_suvs_i302_1s2025_cleaned.csv', index=False)\n",
    "\n",
    "\n"
   ]
  },
  {
   "cell_type": "code",
   "execution_count": null,
   "id": "3f44a660",
   "metadata": {},
   "outputs": [],
   "source": [
    "cleaned = pd.read_csv(\"pf_suvs_i302_1s2025_cleaned.csv\")\n",
    "\n",
    "#mostrar todos los tipos de combustible y cantidades\n",
    "print(\"Tipos de combustible y cantidades:\")\n",
    "print(cleaned['Tipo de combustible'].value_counts())"
   ]
  },
  {
   "cell_type": "code",
   "execution_count": null,
   "id": "8f9cf8c3",
   "metadata": {},
   "outputs": [],
   "source": [
    "# 1. Asegurarse que todo es string\n",
    "cleaned['Kilómetros'] = cleaned['Kilómetros'].astype(str)\n",
    "\n",
    "# 2. Eliminar 'km', espacios y puntos (como separador de miles)\n",
    "cleaned['Kilómetros'] = cleaned['Kilómetros'].str.replace('km', '', regex=False)\n",
    "cleaned['Kilómetros'] = cleaned['Kilómetros'].str.replace('.', '', regex=False)\n",
    "cleaned['Kilómetros'] = cleaned['Kilómetros'].str.strip()\n",
    "\n",
    "# 3. Convertir a numérico (float o int)\n",
    "cleaned['Kilómetros'] = pd.to_numeric(cleaned['Kilómetros'], errors='coerce')\n",
    "\n",
    "cleaned.to_csv('data/processed/pf_suvs_i302_1s2025_cleaned.csv', index=False)"
   ]
  },
  {
   "cell_type": "code",
   "execution_count": null,
   "id": "a9ea10d5",
   "metadata": {},
   "outputs": [],
   "source": [
    "cleaned = pd.read_csv('data/processed/pf_suvs_i302_1s2025_cleaned.csv')\n",
    "cajas = cleaned['Transmisión'].value_counts()\n",
    "print(\"Tipos de caja y cantidades:\")\n",
    "print(cajas)"
   ]
  }
 ],
 "metadata": {
  "kernelspec": {
   "display_name": "Python 3",
   "language": "python",
   "name": "python3"
  },
  "language_info": {
   "codemirror_mode": {
    "name": "ipython",
    "version": 3
   },
   "file_extension": ".py",
   "mimetype": "text/x-python",
   "name": "python",
   "nbconvert_exporter": "python",
   "pygments_lexer": "ipython3",
   "version": "3.11.2"
  }
 },
 "nbformat": 4,
 "nbformat_minor": 5
}
