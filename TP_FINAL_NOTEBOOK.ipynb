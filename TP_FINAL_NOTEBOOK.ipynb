{
 "cells": [
  {
   "cell_type": "markdown",
   "id": "319ad2c8",
   "metadata": {},
   "source": [
    "# Primera parte del preprocesamiento. Limpieza del dataset previo al split."
   ]
  },
  {
   "cell_type": "code",
   "execution_count": 4,
   "id": "4fed489b",
   "metadata": {},
   "outputs": [
    {
     "name": "stdout",
     "output_type": "stream",
     "text": [
      "[TOTAL] Muestras eliminadas en total: 0\n"
     ]
    }
   ],
   "source": [
    "import pandas as pd\n",
    "from preprocessing import limpiar_dataset\n",
    "\n",
    "dev = pd.read_csv('data/raw/pf_suvs_i302_1s2025.csv')\n",
    "\n",
    "dev = limpiar_dataset(dev)\n",
    "dev.to_csv('data/processed/pf_suvs_i302_1s2025_cleaned.csv', index=False)"
   ]
  },
  {
   "cell_type": "code",
   "execution_count": 5,
   "id": "a910b6f0",
   "metadata": {},
   "outputs": [
    {
     "name": "stdout",
     "output_type": "stream",
     "text": [
      "Datos diferentes en cada columna:\n",
      "Marca                        38\n",
      "Modelo                      135\n",
      "Año                          39\n",
      "Versión                    1168\n",
      "Color                        70\n",
      "Tipo de combustible           5\n",
      "Puertas                       2\n",
      "Transmisión                   2\n",
      "Motor                        41\n",
      "Con cámara de retroceso       2\n",
      "Kilómetros                 2126\n",
      "Precio                     2430\n",
      "Tipo de vendedor              3\n",
      "HP                          102\n",
      "Tracción                      2\n",
      "dtype: int64\n",
      "\n",
      "Datos nulos en cada columna:\n",
      "Marca                          9\n",
      "Modelo                        10\n",
      "Año                            1\n",
      "Versión                      271\n",
      "Color                        389\n",
      "Tipo de combustible            0\n",
      "Puertas                      409\n",
      "Transmisión                 4637\n",
      "Motor                         90\n",
      "Con cámara de retroceso    13563\n",
      "Kilómetros                     0\n",
      "Precio                         0\n",
      "Tipo de vendedor               0\n",
      "HP                         12960\n",
      "Tracción                   11248\n",
      "dtype: int64\n"
     ]
    }
   ],
   "source": [
    "cleaned = pd.read_csv('data/processed/pf_suvs_i302_1s2025_cleaned.csv')\n",
    "\n",
    "#datos diferentes en cada columna\n",
    "print(\"Datos diferentes en cada columna:\")\n",
    "print(cleaned.nunique())\n",
    "\n",
    "print(\"\\nDatos nulos en cada columna:\")\n",
    "print(cleaned.isnull().sum())"
   ]
  }
 ],
 "metadata": {
  "kernelspec": {
   "display_name": "Python 3",
   "language": "python",
   "name": "python3"
  },
  "language_info": {
   "codemirror_mode": {
    "name": "ipython",
    "version": 3
   },
   "file_extension": ".py",
   "mimetype": "text/x-python",
   "name": "python",
   "nbconvert_exporter": "python",
   "pygments_lexer": "ipython3",
   "version": "3.11.2"
  }
 },
 "nbformat": 4,
 "nbformat_minor": 5
}
